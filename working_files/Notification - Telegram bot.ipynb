{
 "cells": [
  {
   "cell_type": "code",
   "execution_count": 1,
   "metadata": {},
   "outputs": [],
   "source": [
    "import requests\n",
    "import time"
   ]
  },
  {
   "cell_type": "code",
   "execution_count": 2,
   "metadata": {},
   "outputs": [],
   "source": [
    "bot_token='6723609235:AAHS-KK_qfsIxGSj7DSpj01TN1GDHlNmMW4'\n",
    "chat_id='1599765648'"
   ]
  },
  {
   "cell_type": "code",
   "execution_count": null,
   "metadata": {},
   "outputs": [],
   "source": []
  },
  {
   "cell_type": "code",
   "execution_count": 3,
   "metadata": {},
   "outputs": [],
   "source": [
    "telegram_delay=8\n",
    "\n",
    "def getTPSLfrom_telegram():\n",
    "    strr='https://api.telegram.org/bot'+bot_token+'/getUpdates'\n",
    "    response = requests.get(strr)\n",
    "    rs=response.json()\n",
    "    rs2=rs['result'][-1]\n",
    "    rs3=rs2['message']\n",
    "    textt=rs3['text']\n",
    "    datet=rs3['date']\n",
    "\n",
    "    if(time.time()-datet)<telegram_delay:\n",
    "        if 'quit' in textt:\n",
    "            quit()\n",
    "        if 'exit' in textt:\n",
    "            exit()\n",
    "        if 'hello' in textt:\n",
    "            telegram_bot_sendtext('Hello. How are you?')\n",
    "\n"
   ]
  },
  {
   "cell_type": "code",
   "execution_count": 4,
   "metadata": {},
   "outputs": [],
   "source": [
    "\n",
    "def telegram_bot_sendtext(bot_message):\n",
    "    bot_token2 = bot_token\n",
    "    bot_chatID = chat_id\n",
    "    send_text = 'https://api.telegram.org/bot' + bot_token2 + '/sendMessage?chat_id=' \n",
    "                + bot_chatID + '&parse_mode=Markdown&text=' + bot_message\n",
    "    response = requests.get(send_text)\n",
    "    return response.json()\n",
    "\n",
    "\n",
    "\n"
   ]
  },
  {
   "cell_type": "code",
   "execution_count": null,
   "metadata": {
    "collapsed": true,
    "jupyter": {
     "outputs_hidden": true
    },
    "tags": []
   },
   "outputs": [
    {
     "name": "stdout",
     "output_type": "stream",
     "text": [
      "passthrough at 2024-02-16 23:17:06\n",
      "passthrough at 2024-02-16 23:17:16\n",
      "passthrough at 2024-02-16 23:17:26\n",
      "passthrough at 2024-02-16 23:17:36\n",
      "passthrough at 2024-02-16 23:17:46\n",
      "passthrough at 2024-02-16 23:17:56\n",
      "\n",
      "\n",
      "Keyboard exception received. Exiting.\n",
      "passthrough at 2024-02-16 23:18:06\n",
      "passthrough at 2024-02-16 23:18:16\n",
      "passthrough at 2024-02-16 23:18:26\n",
      "passthrough at 2024-02-16 23:18:36\n",
      "passthrough at 2024-02-16 23:18:46\n",
      "passthrough at 2024-02-16 23:18:56\n",
      "passthrough at 2024-02-16 23:19:06\n",
      "passthrough at 2024-02-16 23:19:16\n",
      "passthrough at 2024-02-16 23:19:26\n",
      "passthrough at 2024-02-16 23:19:36\n",
      "passthrough at 2024-02-16 23:19:46\n",
      "passthrough at 2024-02-16 23:19:56\n",
      "passthrough at 2024-02-16 23:20:06\n",
      "passthrough at 2024-02-16 23:20:16\n",
      "passthrough at 2024-02-16 23:20:26\n",
      "passthrough at 2024-02-16 23:20:36\n",
      "passthrough at 2024-02-16 23:20:46\n",
      "passthrough at 2024-02-16 23:20:56\n",
      "passthrough at 2024-02-16 23:21:06\n",
      "passthrough at 2024-02-16 23:21:16\n",
      "passthrough at 2024-02-16 23:21:26\n",
      "passthrough at 2024-02-16 23:21:36\n",
      "passthrough at 2024-02-16 23:21:46\n",
      "passthrough at 2024-02-16 23:21:56\n",
      "passthrough at 2024-02-16 23:22:06\n",
      "passthrough at 2024-02-16 23:22:16\n",
      "passthrough at 2024-02-16 23:22:26\n",
      "passthrough at 2024-02-16 23:22:36\n",
      "passthrough at 2024-02-16 23:22:46\n",
      "passthrough at 2024-02-16 23:22:56\n",
      "passthrough at 2024-02-16 23:23:06\n",
      "passthrough at 2024-02-16 23:23:16\n",
      "passthrough at 2024-02-16 23:23:26\n",
      "passthrough at 2024-02-16 23:23:36\n",
      "passthrough at 2024-02-16 23:23:46\n",
      "passthrough at 2024-02-16 23:23:56\n",
      "passthrough at 2024-02-16 23:24:06\n",
      "passthrough at 2024-02-16 23:24:16\n",
      "passthrough at 2024-02-16 23:24:26\n",
      "passthrough at 2024-02-16 23:24:36\n",
      "passthrough at 2024-02-16 23:24:46\n",
      "passthrough at 2024-02-16 23:24:56\n",
      "passthrough at 2024-02-16 23:25:06\n",
      "passthrough at 2024-02-16 23:25:16\n",
      "passthrough at 2024-02-16 23:25:26\n",
      "passthrough at 2024-02-16 23:25:36\n",
      "passthrough at 2024-02-16 23:25:46\n",
      "passthrough at 2024-02-16 23:25:56\n",
      "passthrough at 2024-02-16 23:26:06\n",
      "passthrough at 2024-02-16 23:26:16\n",
      "passthrough at 2024-02-16 23:26:26\n",
      "passthrough at 2024-02-16 23:26:36\n",
      "passthrough at 2024-02-16 23:26:46\n",
      "passthrough at 2024-02-16 23:26:56\n",
      "passthrough at 2024-02-16 23:27:06\n",
      "passthrough at 2024-02-16 23:27:16\n",
      "passthrough at 2024-02-16 23:27:26\n",
      "passthrough at 2024-02-16 23:27:36\n",
      "passthrough at 2024-02-16 23:27:46\n",
      "passthrough at 2024-02-16 23:27:56\n",
      "passthrough at 2024-02-16 23:28:06\n",
      "passthrough at 2024-02-16 23:28:16\n",
      "passthrough at 2024-02-16 23:28:26\n",
      "passthrough at 2024-02-16 23:28:36\n",
      "passthrough at 2024-02-16 23:28:46\n",
      "passthrough at 2024-02-16 23:28:56\n",
      "passthrough at 2024-02-16 23:29:06\n",
      "passthrough at 2024-02-16 23:29:16\n",
      "passthrough at 2024-02-16 23:29:26\n",
      "passthrough at 2024-02-16 23:29:36\n",
      "passthrough at 2024-02-16 23:29:46\n",
      "passthrough at 2024-02-16 23:29:56\n",
      "\n",
      "\n",
      "Keyboard exception received. Exiting.\n",
      "passthrough at 2024-02-16 23:30:06\n",
      "passthrough at 2024-02-16 23:30:16\n",
      "passthrough at 2024-02-16 23:30:26\n",
      "passthrough at 2024-02-16 23:30:36\n",
      "passthrough at 2024-02-16 23:30:46\n",
      "\n",
      "\n",
      "Keyboard exception received. Exiting.\n",
      "passthrough at 2024-02-16 23:30:56\n",
      "passthrough at 2024-02-16 23:31:06\n",
      "passthrough at 2024-02-16 23:31:16\n",
      "passthrough at 2024-02-16 23:31:26\n"
     ]
    }
   ],
   "source": [
    "starttime=time.time()\n",
    "timeout = time.time() + 60*60*12  # 60 seconds times 60 meaning the script will run for 1 hr\n",
    "counterr=1\n",
    "\n",
    "while time.time() <= timeout:\n",
    "    try:\n",
    "        print(\"passthrough at \"+time.strftime('%Y-%m-%d %H:%M:%S', time.localtime(time.time())))\n",
    "        getTPSLfrom_telegram()\n",
    "        time.sleep(10 - ((time.time() - starttime) % 10.0))\n",
    "    except KeyboardInterrupt:\n",
    "        print('\\n\\nKeyboard exception received. Exiting.')\n",
    "        exit()\n",
    "        "
   ]
  },
  {
   "cell_type": "code",
   "execution_count": null,
   "metadata": {},
   "outputs": [],
   "source": []
  }
 ],
 "metadata": {
  "kernelspec": {
   "display_name": "Python 3 (ipykernel)",
   "language": "python",
   "name": "python3"
  },
  "language_info": {
   "codemirror_mode": {
    "name": "ipython",
    "version": 3
   },
   "file_extension": ".py",
   "mimetype": "text/x-python",
   "name": "python",
   "nbconvert_exporter": "python",
   "pygments_lexer": "ipython3",
   "version": "3.9.13"
  }
 },
 "nbformat": 4,
 "nbformat_minor": 4
}
